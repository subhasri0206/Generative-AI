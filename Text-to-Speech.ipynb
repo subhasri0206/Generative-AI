!pip install gTTS pydub
from gtts import gTTS
from pydub import AudioSegment

def text_to_speech(text, output_file_path):
    # Initialize gTTS object
    tts = gTTS(text=text, lang='en', slow=False)

    # Save the generated speech to a temporary file
    temp_file_path = "temp.mp3"
    tts.save(temp_file_path)

    # Convert to the desired format and save
    audio = AudioSegment.from_mp3(temp_file_path)
    audio.export(output_file_path, format="wav")  # You can choose other formats like "mp3"

    print(f"Saved speech to {output_file_path}")

# Example usage
text = "Hello, how are you today?"
output_file = "output.wav"
text_to_speech(text, output_file)

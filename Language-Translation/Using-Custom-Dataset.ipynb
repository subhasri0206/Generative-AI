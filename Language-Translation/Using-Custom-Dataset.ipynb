# Dictionary dataset for translation
translation_dict = {
    'hello': 'bonjour',
    'goodbye': 'au revoir',
    'please': 's’il vous plaît',
    'thank you': 'merci',
    'yes': 'oui',
    'no': 'non',
    'cat': 'chat',
    'dog': 'chien',
    'house': 'maison',
    'car': 'voiture',
    'my': 'mon',
    'name':'nom',
    'is':'is',
    'subha':'subha'
}

def translate_to_french(word):
    """Translate the given English word to French using the dataset."""
    return translation_dict.get(word.lower(), "Translation not found")

# Function to take multiple words input from the user and translate them
def translate_words(words):
    """Translate a list of English words to French."""
    translations = {}
    for word in words:
        translations[word] = translate_to_french(word)
    return translations

# Example usage
if __name__ == "__main__":
    user_words = input("Enter words to translate: ").split()
    user_words = [word.strip() for word in user_words]
    translated_words = translate_words(user_words)
    for word, translation in translated_words.items():
        print(f"{translation}",end=" ")
